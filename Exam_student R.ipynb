{
 "cells": [
  {
   "cell_type": "markdown",
   "metadata": {},
   "source": [
    "# Exam R\n",
    "Mark Klik & Misja Mikkers\n",
    "\n",
    "# Introduction\n",
    "\n",
    "The exam consists of 2 parts. In the first part, you have to run a regression, test if the assumptions of a linear regression model are met, and make 2 graphs.\n",
    "\n",
    "In the second part of the exam, you will have to make a map of Catholic and Protestant schools in the Netherlands.\n",
    "\n",
    "# Packages\n"
   ]
  },
  {
   "cell_type": "code",
   "execution_count": null,
   "metadata": {},
   "outputs": [],
   "source": []
  },
  {
   "cell_type": "code",
   "execution_count": 1,
   "metadata": {},
   "outputs": [
    {
     "name": "stderr",
     "output_type": "stream",
     "text": [
      "-- Attaching packages --------------------------------------- tidyverse 1.2.1 --\n",
      "<U+221A> ggplot2 2.2.1     <U+221A> purrr   0.2.4\n",
      "<U+221A> tibble  1.4.2     <U+221A> dplyr   0.7.4\n",
      "<U+221A> tidyr   0.8.0     <U+221A> stringr 1.3.0\n",
      "<U+221A> readr   1.1.1     <U+221A> forcats 0.3.0\n",
      "-- Conflicts ------------------------------------------ tidyverse_conflicts() --\n",
      "x dplyr::filter() masks stats::filter()\n",
      "x dplyr::lag()    masks stats::lag()\n"
     ]
    }
   ],
   "source": [
    "library(tidyverse)\n",
    "library(gvlma)"
   ]
  },
  {
   "cell_type": "markdown",
   "metadata": {},
   "source": [
    "# Assignment 1\n",
    "\n",
    "\n",
    "## Data\n",
    "\n",
    "The data are given:\n"
   ]
  },
  {
   "cell_type": "code",
   "execution_count": 2,
   "metadata": {},
   "outputs": [],
   "source": [
    "set.seed(123)\n",
    "df1 <- as.data.frame(matrix(runif(1*50, min = 1, max = 10), ncol = 1)) %>%\n",
    "    mutate(epsilon = rnorm(50, mean = 0, sd = 2)) %>%\n",
    "    mutate(response = 3 - 2* V1  + epsilon) %>%\n",
    "    mutate(group = ifelse(V1 <= 5, 1,2))"
   ]
  },
  {
   "cell_type": "markdown",
   "metadata": {},
   "source": [
    "## Asignment 1a\n",
    "\n",
    "The first assigment is to make boxplot using ggplot with group on the x-axis and V1 on the y-axis."
   ]
  },
  {
   "cell_type": "code",
   "execution_count": 3,
   "metadata": {},
   "outputs": [
    {
     "name": "stderr",
     "output_type": "stream",
     "text": [
      "Warning message:\n",
      "\"Continuous x aesthetic -- did you forget aes(group=...)?\""
     ]
    },
    {
     "data": {},
     "metadata": {},
     "output_type": "display_data"
    },
    {
     "data": {
      "image/png": "[encoded data removed]",
      "text/plain": [
       "plot without title"
      ]
     },
     "metadata": {},
     "output_type": "display_data"
    }
   ],
   "source": [
    "ggplot(df1, aes(x=group, y=V1)) + geom_boxplot()"
   ]
  },
  {
   "cell_type": "markdown",
   "metadata": {},
   "source": [
    "## Assignment 1b\n",
    "\n",
    "Run a regression with response variable as a function of V1.\n",
    "Show the summary statistics of the regression.\n"
   ]
  },
  {
   "cell_type": "code",
   "execution_count": 4,
   "metadata": {},
   "outputs": [
    {
     "data": {
      "text/plain": [
       "\n",
       "Call:\n",
       "lm(formula = response ~ V1, data = df1)\n",
       "\n",
       "Residuals:\n",
       "    Min      1Q  Median      3Q     Max \n",
       "-4.5116 -1.1157 -0.1313  1.0985  4.3723 \n",
       "\n",
       "Coefficients:\n",
       "            Estimate Std. Error t value Pr(>|t|)    \n",
       "(Intercept)   2.6305     0.6347   4.145 0.000138 ***\n",
       "V1           -1.9152     0.1014 -18.880  < 2e-16 ***\n",
       "---\n",
       "Signif. codes:  0 '***' 0.001 '**' 0.01 '*' 0.05 '.' 0.1 ' ' 1\n",
       "\n",
       "Residual standard error: 1.881 on 48 degrees of freedom\n",
       "Multiple R-squared:  0.8813,\tAdjusted R-squared:  0.8788 \n",
       "F-statistic: 356.4 on 1 and 48 DF,  p-value: < 2.2e-16\n"
      ]
     },
     "metadata": {},
     "output_type": "display_data"
    }
   ],
   "source": [
    "reg1 <- lm(data=df1, response~V1)\n",
    "summary(reg1)"
   ]
  },
  {
   "cell_type": "markdown",
   "metadata": {},
   "source": [
    "check if the assumptions of linear regression are met with the `gvlma()` function."
   ]
  },
  {
   "cell_type": "code",
   "execution_count": 5,
   "metadata": {},
   "outputs": [
    {
     "data": {
      "text/plain": [
       "\n",
       "Call:\n",
       "lm(formula = response ~ V1, data = df1)\n",
       "\n",
       "Coefficients:\n",
       "(Intercept)           V1  \n",
       "      2.630       -1.915  \n",
       "\n",
       "\n",
       "ASSESSMENT OF THE LINEAR MODEL ASSUMPTIONS\n",
       "USING THE GLOBAL TEST ON 4 DEGREES-OF-FREEDOM:\n",
       "Level of Significance =  0.05 \n",
       "\n",
       "Call:\n",
       " gvlma(x = reg1) \n",
       "\n",
       "                      Value p-value                Decision\n",
       "Global Stat        0.654319  0.9568 Assumptions acceptable.\n",
       "Skewness           0.002398  0.9609 Assumptions acceptable.\n",
       "Kurtosis           0.007200  0.9324 Assumptions acceptable.\n",
       "Link Function      0.005852  0.9390 Assumptions acceptable.\n",
       "Heteroscedasticity 0.638869  0.4241 Assumptions acceptable."
      ]
     },
     "metadata": {},
     "output_type": "display_data"
    }
   ],
   "source": [
    "gvlma(reg1)"
   ]
  },
  {
   "cell_type": "markdown",
   "metadata": {},
   "source": [
    "## Assignment 1c\n",
    "\n",
    "Make a scatterplot with: \n",
    "* V1 on the x-axis and the response on the y-axis\n",
    "* Include the regression line in red with confidence interval \n",
    "* In a classic theme\n",
    "* The x-axis should be labeled \"Predictor\", the y-axis should be labeled (\"Response\")\n",
    "\n"
   ]
  },
  {
   "cell_type": "code",
   "execution_count": 6,
   "metadata": {},
   "outputs": [
    {
     "ename": "ERROR",
     "evalue": "Error in `[.data.frame`(df1, \"Response\"): undefined columns selected\n",
     "output_type": "error",
     "traceback": [
      "Error in `[.data.frame`(df1, \"Response\"): undefined columns selected\nTraceback:\n",
      "1. df1[\"Response\"]",
      "2. `[.data.frame`(df1, \"Response\")",
      "3. stop(\"undefined columns selected\")"
     ]
    }
   ],
   "source": [
    "'Predictor' <- df1['V1']\n",
    "'Response' <- df1['Response']\n",
    "ggplot(df1,aes(x=Predictor,y=Response))+\n",
    "    geom_point()+ theme_classic()+\n",
    "    geom_smooth(method='lm',formula=y~x, col=10)\n"
   ]
  },
  {
   "cell_type": "markdown",
   "metadata": {},
   "source": [
    "# Assigment 2\n",
    "\n",
    "# Packages"
   ]
  },
  {
   "cell_type": "code",
   "execution_count": null,
   "metadata": {},
   "outputs": [],
   "source": [
    "install.packages(\"../Sourcedata//thematicmaps_2.1.tar.gz\", repos= NULL, type= 'source')"
   ]
  },
  {
   "cell_type": "code",
   "execution_count": null,
   "metadata": {},
   "outputs": [],
   "source": [
    "library(thematicmaps)\n",
    "library(tidyverse)"
   ]
  },
  {
   "cell_type": "markdown",
   "metadata": {},
   "source": [
    "## Assignment 2a\n",
    "\n",
    "First you have to read in the file \"nld_municipal_map.csv\".\n",
    "Hint: Look at the notebook of week 6 about maps."
   ]
  },
  {
   "cell_type": "code",
   "execution_count": null,
   "metadata": {},
   "outputs": [],
   "source": [
    "map_municipal <- read.csv2(\"nld_municipal_map.csv\", stringsAsFactor = FALSE, dec = \".\")\n",
    "head(map_municipal)\n"
   ]
  },
  {
   "cell_type": "markdown",
   "metadata": {},
   "source": [
    "## Assignment 2b\n",
    "\n",
    "Now you can make an empty map of the Netherlands."
   ]
  },
  {
   "cell_type": "code",
   "execution_count": null,
   "metadata": {},
   "outputs": [],
   "source": [
    "AddMapLayer(MapPlot(), map_municipal)"
   ]
  },
  {
   "cell_type": "markdown",
   "metadata": {},
   "source": [
    "## Assignment 2c\n",
    "\n",
    "Read in the pc4 locations (nld_pc4_locations.csv).\n",
    "\n",
    "Hint: Don't forget the X and Y should be numeric variables!"
   ]
  },
  {
   "cell_type": "code",
   "execution_count": null,
   "metadata": {},
   "outputs": [],
   "source": [
    "read.csv(\"../Sourcedata/nld_pc4_locations.csv\", header = TRUE, sep=';')"
   ]
  },
  {
   "cell_type": "markdown",
   "metadata": {},
   "source": [
    "## Assignment 2d\n",
    "\n",
    "### 2di\n",
    "\n",
    "Read in the school data\n"
   ]
  },
  {
   "cell_type": "code",
   "execution_count": null,
   "metadata": {},
   "outputs": [],
   "source": [
    "schools <- read.csv2('../Sourcedata/schools.csv')"
   ]
  },
  {
   "cell_type": "markdown",
   "metadata": {},
   "source": [
    "### 2dii\n",
    "\n",
    "First, create a new dataframe schools1, which is equal to schools.\n",
    "\n",
    "As you see POSTCODE has a structure of (1234 AB). You should create a new variable PC4 that is equal to the first 4 numbers in POSTCODE\n",
    "\n",
    "Hint: Use the function `substr()`\n",
    "\n",
    "Then select the variables PC4 and DENOMINATIE"
   ]
  },
  {
   "cell_type": "code",
   "execution_count": null,
   "metadata": {},
   "outputs": [],
   "source": [
    "schools1 <- schools %>%"
   ]
  },
  {
   "cell_type": "markdown",
   "metadata": {},
   "source": [
    "### 2diii\n",
    "\n",
    "Create the dataframe school_loc as a join from pc4_locations and school1 that combines the columns from both data frames, but only keeps rows where the value in the pc4_locations column matches in both data frames.\n",
    "And then select the observations with DENOMINATIE is equal to \"Rooms-Katholiek\" or \"Protestants-Christelijk\""
   ]
  },
  {
   "cell_type": "code",
   "execution_count": null,
   "metadata": {},
   "outputs": [],
   "source": [
    "school_loc <- "
   ]
  },
  {
   "cell_type": "markdown",
   "metadata": {},
   "source": [
    "## Assignment 2e\n",
    "\n",
    "Create a map of Catholic and Protestant schools in the Netherlands\n"
   ]
  },
  {
   "cell_type": "code",
   "execution_count": null,
   "metadata": {},
   "outputs": [],
   "source": [
    " "
   ]
  },
  {
   "cell_type": "markdown",
   "metadata": {},
   "source": [
    "End of notebook"
   ]
  },
  {
   "cell_type": "code",
   "execution_count": null,
   "metadata": {},
   "outputs": [],
   "source": []
  },
  {
   "cell_type": "code",
   "execution_count": null,
   "metadata": {},
   "outputs": [],
   "source": []
  }
 ],
 "metadata": {
  "anaconda-cloud": {},
  "kernelspec": {
   "display_name": "R",
   "language": "R",
   "name": "ir"
  },
  "language_info": {
   "codemirror_mode": "r",
   "file_extension": ".r",
   "mimetype": "text/x-r-source",
   "name": "R",
   "pygments_lexer": "r",
   "version": "3.3.3"
  }
 },
 "nbformat": 4,
 "nbformat_minor": 1
}
